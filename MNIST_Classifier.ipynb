{
  "cells": [
    {
      "cell_type": "markdown",
      "metadata": {
        "id": "FWMW6Y3fDQPh"
      },
      "source": [
        "# MNIST Handwritten Digit Classification\n",
        "\n",
        "## Overview\n",
        "This notebook implements a Convolutional Neural Network (CNN) for classifying handwritten digits from the MNIST dataset. The MNIST dataset contains 60,000 training images and 10,000 test images of handwritten digits (0-9), each 28x28 pixels in grayscale.\n",
        "\n",
        "## Project Goals\n",
        "- Build a lightweight CNN model with fewer than 25,000 parameters\n",
        "- Achieve high accuracy (>95%) on the MNIST test set\n",
        "- Implement proper data augmentation and regularization techniques\n",
        "- Visualize training progress and model performance\n",
        "\n",
        "## Key Features\n",
        "- **4-Block CNN Architecture**: Efficient convolutional blocks with transition layers\n",
        "- **Data Augmentation**: Random rotations, affine transforms, and color jittering\n",
        "- **Regularization**: Dropout layers and batch normalization techniques\n",
        "- **Global Average Pooling**: Reduces parameters compared to fully connected layers\n",
        "\n",
        "## Model Architecture Overview\n",
        "The model uses a 4-block CNN design:\n",
        "1. **Block 1**: Feature extraction (1→8→16→32 channels)\n",
        "2. **Block 2**: Pattern recognition (32→16→32→8 channels)\n",
        "3. **Block 3**: Higher-level features (8→16→16 channels)\n",
        "4. **Block 4**: Final feature refinement (16→32 channels)\n",
        "5. **GAP + FC**: Global average pooling + final classification layer"
      ]
    },
    {
      "cell_type": "markdown",
      "metadata": {
        "id": "9KKZXp0FDoeJ"
      },
      "source": [
        "## 1. Import Required Libraries\n",
        "\n",
        "We'll import all the necessary libraries for building and training our CNN model:\n",
        "- **PyTorch**: Core deep learning framework\n",
        "- **torchvision**: For datasets and image transforms\n",
        "- **matplotlib**: For visualization\n"
      ]
    },
    {
      "cell_type": "code",
      "execution_count": 1,
      "metadata": {
        "id": "dPLHDfvR710P"
      },
      "outputs": [],
      "source": [
        "# Import core PyTorch libraries\n",
        "import torch\n",
        "import torch.nn as nn\n",
        "import torch.nn.functional as F\n",
        "import torch.optim as optim\n",
        "\n",
        "# Import vision libraries for datasets and transforms\n",
        "from torchvision import datasets, transforms\n",
        "from torch.utils.data import DataLoader\n",
        "\n",
        "# Import additional libraries for visualization and utilities\n",
        "import matplotlib.pyplot as plt\n",
        "import numpy as np\n",
        "from tqdm import tqdm\n",
        "import os\n",
        "\n",
        "from torchsummary import summary"
      ]
    },
    {
      "cell_type": "markdown",
      "metadata": {},
      "source": [
        "## 1.1. Reproducibility Setup\n",
        "\n",
        "For consistent and reproducible results across different runs and devices, we'll set seeds for all random number generators used in the pipeline:\n",
        "\n",
        "- **Python Random**: Built-in random module\n",
        "- **NumPy**: Scientific computing random numbers  \n",
        "- **PyTorch CPU**: PyTorch's CPU random number generator\n",
        "- **PyTorch CUDA**: NVIDIA GPU random number generator\n",
        "- **PyTorch MPS**: Apple Silicon GPU random number generator\n",
        "\n",
        "This ensures that data augmentation, model initialization, and training will produce identical results each time.\n"
      ]
    },
    {
      "cell_type": "code",
      "execution_count": 2,
      "metadata": {},
      "outputs": [
        {
          "name": "stdout",
          "output_type": "stream",
          "text": [
            "🎲 Setting random seed to 42 for reproducibility\n",
            "  ✅ MPS (Apple Silicon) seed set\n",
            "  ✅ All random number generators seeded\n",
            "  📋 Note: Results should now be reproducible across runs\n"
          ]
        }
      ],
      "source": [
        "import random\n",
        "\n",
        "def set_seed(seed=42):\n",
        "    \"\"\"\n",
        "    Set seeds for all random number generators to ensure reproducible results.\n",
        "    \n",
        "    Args:\n",
        "        seed (int): Random seed value (default: 42)\n",
        "    \"\"\"\n",
        "    print(f\"🎲 Setting random seed to {seed} for reproducibility\")\n",
        "    \n",
        "    # Set Python's built-in random seed\n",
        "    random.seed(seed)\n",
        "    \n",
        "    # Set NumPy random seed\n",
        "    np.random.seed(seed)\n",
        "    \n",
        "    # Set PyTorch random seed for CPU\n",
        "    torch.manual_seed(seed)\n",
        "    \n",
        "    # Set PyTorch random seed for CUDA (if available)\n",
        "    if torch.cuda.is_available():\n",
        "        torch.cuda.manual_seed(seed)\n",
        "        torch.cuda.manual_seed_all(seed)  # For multi-GPU setups\n",
        "        # Ensure deterministic operations on GPU\n",
        "        torch.backends.cudnn.deterministic = True\n",
        "        torch.backends.cudnn.benchmark = False\n",
        "        print(\"  ✅ CUDA seeds set with deterministic operations enabled\")\n",
        "    \n",
        "    # Set PyTorch random seed for MPS (if available)\n",
        "    if torch.backends.mps.is_available():\n",
        "        torch.mps.manual_seed(seed)\n",
        "        print(\"  ✅ MPS (Apple Silicon) seed set\")\n",
        "    \n",
        "    # Set environment variable for Python hash seed (for complete reproducibility)\n",
        "    os.environ['PYTHONHASHSEED'] = str(seed)\n",
        "    \n",
        "    print(\"  ✅ All random number generators seeded\")\n",
        "    print(\"  📋 Note: Results should now be reproducible across runs\")\n",
        "\n",
        "# Set the global seed\n",
        "SEED = 42\n",
        "set_seed(SEED)\n"
      ]
    },
    {
      "cell_type": "markdown",
      "metadata": {
        "id": "3cR1-0DfEIAa"
      },
      "source": [
        "## 2. Device Setup and GPU Detection\n",
        "\n",
        "We'll check for available compute devices in order of preference:\n",
        "1. **CUDA** (NVIDIA GPUs) - Best performance for deep learning\n",
        "2. **MPS** (Apple Silicon Metal) - Optimized for Mac M1/M2/M3 chips\n",
        "3. **CPU** - Fallback option for compatibility\n",
        "\n",
        "This ensures optimal performance across different hardware configurations.\n"
      ]
    },
    {
      "cell_type": "code",
      "execution_count": 3,
      "metadata": {
        "colab": {
          "base_uri": "https://localhost:8080/"
        },
        "id": "DvaMA6XHEM5O",
        "outputId": "83555802-c1c7-4666-c579-696732a36e6a"
      },
      "outputs": [
        {
          "name": "stdout",
          "output_type": "stream",
          "text": [
            "✅ Using Apple Silicon GPU (Metal Performance Shaders)\n",
            "Device selected: mps\n"
          ]
        }
      ],
      "source": [
        "# Check for available compute devices\n",
        "def get_device():\n",
        "    \"\"\"\n",
        "    Determine the best available device for computation.\n",
        "    Priority: CUDA > MPS (Mac GPU) > CPU\n",
        "    \"\"\"\n",
        "    if torch.cuda.is_available():\n",
        "        device = torch.device(\"cuda\")\n",
        "        print(f\"✅ Using CUDA GPU: {torch.cuda.get_device_name(0)}\")\n",
        "        print(f\"   Memory: {torch.cuda.get_device_properties(0).total_memory / 1024**3:.1f} GB\")\n",
        "        return device\n",
        "    elif torch.backends.mps.is_available():\n",
        "        device = torch.device(\"mps\")\n",
        "        print(\"✅ Using Apple Silicon GPU (Metal Performance Shaders)\")\n",
        "        return device\n",
        "    else:\n",
        "        device = torch.device(\"cpu\")\n",
        "        print(\"⚠️  Using CPU (consider using GPU for faster training)\")\n",
        "        return device\n",
        "\n",
        "# Set the device for training\n",
        "device = get_device()\n",
        "print(f\"Device selected: {device}\")"
      ]
    },
    {
      "cell_type": "markdown",
      "metadata": {
        "id": "RIna1kDSEWJX"
      },
      "source": [
        "## 3. Data Preprocessing and Augmentation\n",
        "\n",
        "### Training Transforms\n",
        "We apply several augmentation techniques to increase dataset diversity and improve model generalization:\n",
        "- **RandomRotation(5°)**: Slight rotations to handle natural writing variations\n",
        "- **RandomAffine**: Translation, scaling, and shearing transforms\n",
        "- **ColorJitter**: Brightness and contrast variations\n",
        "- **Normalization**: Using MNIST statistics (mean=0.1307, std=0.3081)\n",
        "\n",
        "### Test Transforms  \n",
        "For testing, we only apply normalization to ensure consistent preprocessing while maintaining reproducible results."
      ]
    },
    {
      "cell_type": "code",
      "execution_count": 4,
      "metadata": {
        "id": "4XjL7RB-8Cch"
      },
      "outputs": [],
      "source": [
        "# Define data transformations for training (with augmentation)\n",
        "train_transform = transforms.Compose([\n",
        "    transforms.RandomRotation(5),\n",
        "    transforms.RandomAffine(degrees=0, translate=(0.05, 0.05), scale=(0.9, 1.1), shear=10),\n",
        "    transforms.ColorJitter(brightness=0.1, contrast=0.1),\n",
        "    transforms.ToTensor(),\n",
        "    transforms.Normalize((0.1307,), (0.3081,))\n",
        "])\n",
        "\n",
        "# Define data transformations for testing (no augmentation)\n",
        "test_transform = transforms.Compose([\n",
        "    transforms.ToTensor(),\n",
        "    transforms.Normalize((0.1307,), (0.3081,))\n",
        "])"
      ]
    },
    {
      "cell_type": "markdown",
      "metadata": {
        "id": "1Mqx3pKlEjfv"
      },
      "source": [
        "## 4. Dataset Loading and Data Loaders\n",
        "\n",
        "We'll download and prepare the MNIST dataset with appropriate batch sizes for efficient training:\n",
        "- **Batch size**: 32 (balances memory usage and gradient stability)\n",
        "- **Shuffle**: Training data shuffled for better convergence\n",
        "- **Workers**: Multiple workers for parallel data loading\n"
      ]
    },
    {
      "cell_type": "code",
      "execution_count": 5,
      "metadata": {
        "colab": {
          "base_uri": "https://localhost:8080/"
        },
        "id": "O-WzGcRY8E32",
        "outputId": "c279d761-9286-4abc-ecf2-7a427e56d205"
      },
      "outputs": [
        {
          "name": "stdout",
          "output_type": "stream",
          "text": [
            "Training samples: 60,000\n",
            "Test samples: 10,000\n",
            "Number of classes: 10\n",
            "Image shape: torch.Size([1, 28, 28])\n"
          ]
        }
      ],
      "source": [
        "# Load MNIST datasets with transforms\n",
        "train_dataset = datasets.MNIST(root='./data', train=True, download=True, transform=train_transform)\n",
        "test_dataset = datasets.MNIST(root='./data', train=False, download=True, transform=test_transform)\n",
        "\n",
        "# Create data loaders for batch processing\n",
        "train_loader = DataLoader(train_dataset, batch_size=32, shuffle=True)\n",
        "test_loader = DataLoader(test_dataset, batch_size=32, shuffle=False)\n",
        "\n",
        "print(f\"Training samples: {len(train_dataset):,}\")\n",
        "print(f\"Test samples: {len(test_dataset):,}\")\n",
        "print(f\"Number of classes: {len(train_dataset.classes)}\")\n",
        "print(f\"Image shape: {train_dataset[0][0].shape}\")"
      ]
    },
    {
      "cell_type": "markdown",
      "metadata": {
        "id": "5DhyLvxRE_xA"
      },
      "source": [
        "## 5. Data Visualization and Exploration\n",
        "\n",
        "Let's examine our training data to understand what we're working with:\n",
        "- **Sample Images**: Visualize a batch of training images\n",
        "- **Data Shape**: Confirm tensor dimensions (batch_size, channels, height, width)  \n",
        "- **Label Distribution**: Understand class balance in the dataset\n",
        "- **Augmentation Effects**: See how data transforms affect the images\n",
        "\n",
        "This visualization helps ensure our data loading pipeline is working correctly and gives us insight into the dataset characteristics.\n"
      ]
    },
    {
      "cell_type": "code",
      "execution_count": 6,
      "metadata": {
        "colab": {
          "base_uri": "https://localhost:8080/",
          "height": 481
        },
        "id": "eCCKcWIp8Pww",
        "outputId": "bd1905c7-9a87-45f9-e8b0-864fc5d408f5"
      },
      "outputs": [
        {
          "name": "stdout",
          "output_type": "stream",
          "text": [
            "Batch Size torch.Size([32, 1, 28, 28])\n"
          ]
        },
        {
          "data": {
            "image/png": "[encoded data removed]",
            "text/plain": [
              "<Figure size 640x480 with 12 Axes>"
            ]
          },
          "metadata": {},
          "output_type": "display_data"
        }
      ],
      "source": [
        "batch_data, batch_label = next(iter(train_loader))\n",
        "print(f'Batch Size {batch_data.size()}')\n",
        "\n",
        "fig = plt.figure()\n",
        "\n",
        "for i in range(12):\n",
        "  plt.subplot(3,4,i+1)\n",
        "  plt.tight_layout()\n",
        "  plt.imshow(batch_data[i].squeeze(0), cmap='gray')\n",
        "  plt.title(batch_label[i].item())\n",
        "  plt.xticks([])\n",
        "  plt.yticks([])"
      ]
    },
    {
      "cell_type": "markdown",
      "metadata": {
        "id": "xAiCL3yrFU-L"
      },
      "source": [
        "## 6. CNN Model Architecture\n",
        "\n",
        "Our **SmallMNISTNet4Block** is designed to be efficient yet powerful, staying under 25,000 parameters while achieving high accuracy.\n",
        "\n",
        "### Architecture Design Philosophy:\n",
        "- **Progressive Channel Reduction**: Each block processes features at different abstraction levels\n",
        "- **Transition Layers**: 1×1 convolutions reduce parameters and control information flow\n",
        "- **Strategic Dropout**: Applied at key points to prevent overfitting\n",
        "- **Global Average Pooling**: Replaces fully connected layers to reduce parameters\n",
        "- **Efficient Parameter Usage**: Every layer contributes meaningfully to the final result\n",
        "\n",
        "### Model Flow:\n",
        "```\n",
        "Input (1×28×28)\n",
        "↓ Block 1: Feature extraction (1→8→16→32→16 channels) + MaxPool + Dropout\n",
        "↓ Block 2: Pattern recognition (16→32→8 channels) + MaxPool + Dropout  \n",
        "↓ Block 3: High-level features (8→16 channels) + MaxPool + Dropout\n",
        "↓ Block 4: Final refinement (16→32 channels)\n",
        "↓ Global Average Pooling (32×1×1)\n",
        "↓ Linear Classification (32→10)\n",
        "↓ Output (10 classes)\n",
        "```"
      ]
    },
    {
      "cell_type": "code",
      "execution_count": 7,
      "metadata": {
        "id": "PEwdHbHvZSwm"
      },
      "outputs": [],
      "source": [
        "class SmallMNISTNet4Block(nn.Module):\n",
        "    def __init__(self, dropout_prob=0.1):\n",
        "        super(SmallMNISTNet4Block, self).__init__()\n",
        "\n",
        "        # =============== BLOCK 1: Feature Extraction ===============\n",
        "        # Input: 1×28×28, RF=1\n",
        "        self.conv1_1 = nn.Conv2d(1, 8, 3, padding=1)    # → 8×28×28\n",
        "        self.conv1_2 = nn.Conv2d(8, 16, 3, padding=1)   # → 16×28×28\n",
        "        self.conv1_3 = nn.Conv2d(16, 32, 3, padding=1)  # → 32×28×28\n",
        "        self.trans1 = nn.Conv2d(32, 16, 1)              # → 16×28×28\n",
        "        # MaxPool2d(2): → 16×14×14, RF=8\n",
        "        self.dropout1 = nn.Dropout2d(dropout_prob)       # → 16×14×14\n",
        "\n",
        "        # =============== BLOCK 2: Pattern Recognition ===============\n",
        "        # Input: 16×14×14, RF=8\n",
        "        self.conv2_1 = nn.Conv2d(16, 16, 3, padding=1)  # → 16×14×14\n",
        "        self.conv2_2 = nn.Conv2d(16, 32, 3, padding=1)  # → 32×14×14\n",
        "        self.trans2 = nn.Conv2d(32, 8, 1)               # → 8×14×14\n",
        "        # MaxPool2d(2): → 8×7×7, RF=18\n",
        "        self.dropout2 = nn.Dropout2d(dropout_prob)       # → 8×7×7\n",
        "\n",
        "        # =============== BLOCK 3: High-Level Features ===============\n",
        "        # Input: 8×7×7, RF=18\n",
        "        self.conv3_1 = nn.Conv2d(8, 16, 3, padding=1)   # → 16×7×7\n",
        "        self.conv3_2 = nn.Conv2d(16, 16, 3, padding=1)  # → 16×7×7\n",
        "        # MaxPool2d(2): → 16×3×3, RF=38\n",
        "        self.dropout3 = nn.Dropout2d(dropout_prob)       # → 16×3×3\n",
        "\n",
        "        # =============== BLOCK 4: Final Refinement ===============\n",
        "        # Input: 16×3×3, RF=38\n",
        "        self.conv4_1 = nn.Conv2d(16, 16, 3, padding=1)  # → 16×3×3\n",
        "        self.conv4_2 = nn.Conv2d(16, 32, 3, padding=1)  # → 32×3×3\n",
        "\n",
        "        # =============== GLOBAL POOLING & CLASSIFICATION ===============\n",
        "        # Input: 32×3×3, RF=70\n",
        "        self.gap = nn.AdaptiveAvgPool2d(1)               # → 32×1×1\n",
        "        \n",
        "        # Input: 32 features, RF=70\n",
        "        self.fc = nn.Linear(32, 10)                      # → 10 classes\n",
        "\n",
        "    def forward(self, x):\n",
        "        # INPUT: x.shape = [batch, 1, 28, 28] | RF = 1\n",
        "        \n",
        "        # =============== BLOCK 1: Feature Extraction ===============\n",
        "        x = F.relu(self.conv1_1(x))      # [batch, 8, 28, 28]  \n",
        "        x = F.relu(self.conv1_2(x))      # [batch, 16, 28, 28] \n",
        "        x = F.relu(self.conv1_3(x))      # [batch, 32, 28, 28] \n",
        "        x = F.relu(self.trans1(x))       # [batch, 16, 28, 28] \n",
        "        x = F.max_pool2d(x, 2)           # [batch, 16, 14, 14] \n",
        "        x = self.dropout1(x)             # [batch, 16, 14, 14] \n",
        "\n",
        "        # =============== BLOCK 2: Pattern Recognition ===============  \n",
        "        x = F.relu(self.conv2_1(x))      # [batch, 16, 14, 14] \n",
        "        x = F.relu(self.conv2_2(x))      # [batch, 32, 14, 14] \n",
        "        x = F.relu(self.trans2(x))       # [batch, 8, 14, 14]  \n",
        "        x = F.max_pool2d(x, 2)           # [batch, 8, 7, 7]    \n",
        "        x = self.dropout2(x)             # [batch, 8, 7, 7]    \n",
        "\n",
        "        # =============== BLOCK 3: High-Level Features ===============\n",
        "        x = F.relu(self.conv3_1(x))      # [batch, 16, 7, 7]   \n",
        "        x = F.relu(self.conv3_2(x))      # [batch, 16, 7, 7]   \n",
        "        x = F.max_pool2d(x, 2)           # [batch, 16, 3, 3]   \n",
        "        x = self.dropout3(x)             # [batch, 16, 3, 3]   \n",
        "\n",
        "        # =============== BLOCK 4: Final Refinement ===============\n",
        "        x = F.relu(self.conv4_1(x))      # [batch, 16, 3, 3]   \n",
        "        x = F.relu(self.conv4_2(x))      # [batch, 32, 3, 3]   \n",
        "\n",
        "        # =============== GLOBAL POOLING & CLASSIFICATION ===============\n",
        "        x = self.gap(x)                  # [batch, 32, 1, 1]   \n",
        "        x = x.view(x.size(0), -1)        # [batch, 32]         \n",
        "        x = self.fc(x)                   # [batch, 10]         \n",
        "        \n",
        "        return F.log_softmax(x, dim=1)   # [batch, 10] (log probabilities)\n"
      ]
    },
    {
      "cell_type": "markdown",
      "metadata": {
        "id": "mz985g-NFm1c"
      },
      "source": [
        "## 7. Model Summary and Parameter Analysis\n",
        "\n",
        "Let's analyze our model architecture and verify it meets our parameter constraints:\n",
        "- **Total Parameters**: Should be < 25,000\n",
        "- **Memory Usage**: Efficient forward/backward pass\n",
        "- **Layer Distribution**: Balanced parameter allocation across blocks\n"
      ]
    },
    {
      "cell_type": "code",
      "execution_count": 8,
      "metadata": {
        "colab": {
          "base_uri": "https://localhost:8080/"
        },
        "id": "SJkyEL-PMOjE",
        "outputId": "da3a1ba9-0321-40b1-b2d1-ead957003d62"
      },
      "outputs": [
        {
          "name": "stdout",
          "output_type": "stream",
          "text": [
            "----------------------------------------------------------------\n",
            "        Layer (type)               Output Shape         Param #\n",
            "================================================================\n",
            "            Conv2d-1            [-1, 8, 28, 28]              80\n",
            "            Conv2d-2           [-1, 16, 28, 28]           1,168\n",
            "            Conv2d-3           [-1, 32, 28, 28]           4,640\n",
            "            Conv2d-4           [-1, 16, 28, 28]             528\n",
            "         Dropout2d-5           [-1, 16, 14, 14]               0\n",
            "            Conv2d-6           [-1, 16, 14, 14]           2,320\n",
            "            Conv2d-7           [-1, 32, 14, 14]           4,640\n",
            "            Conv2d-8            [-1, 8, 14, 14]             264\n",
            "         Dropout2d-9              [-1, 8, 7, 7]               0\n",
            "           Conv2d-10             [-1, 16, 7, 7]           1,168\n",
            "           Conv2d-11             [-1, 16, 7, 7]           2,320\n",
            "        Dropout2d-12             [-1, 16, 3, 3]               0\n",
            "           Conv2d-13             [-1, 16, 3, 3]           2,320\n",
            "           Conv2d-14             [-1, 32, 3, 3]           4,640\n",
            "AdaptiveAvgPool2d-15             [-1, 32, 1, 1]               0\n",
            "           Linear-16                   [-1, 10]             330\n",
            "================================================================\n",
            "Total params: 24,418\n",
            "Trainable params: 24,418\n",
            "Non-trainable params: 0\n",
            "----------------------------------------------------------------\n",
            "Input size (MB): 0.00\n",
            "Forward/backward pass size (MB): 0.56\n",
            "Params size (MB): 0.09\n",
            "Estimated Total Size (MB): 0.65\n",
            "----------------------------------------------------------------\n"
          ]
        }
      ],
      "source": [
        "model = SmallMNISTNet4Block().to('cpu')\n",
        "summary(model, input_size=(1, 28, 28))"
      ]
    },
    {
      "cell_type": "markdown",
      "metadata": {},
      "source": [
        "## 8. Enhanced Training and Evaluation Functions\n",
        "\n",
        "We implement robust training and evaluation functions with comprehensive tracking and progress monitoring capabilities.\n",
        "\n",
        "### 🚀 Training Function Features (`train_epoch`)\n",
        "\n",
        "Our enhanced training function provides:\n",
        "\n",
        "- **Progress Visualization**: Real-time progress bars using `tqdm` showing current loss and accuracy\n",
        "- **Comprehensive Metrics**: Tracks both loss and accuracy throughout training\n",
        "- **Device Optimization**: Efficient GPU/MPS memory usage with `non_blocking=True`\n",
        "- **Memory Management**: Proper gradient zeroing and tensor operations\n",
        "- **Real-time Feedback**: Live updates of training metrics during each batch\n",
        "\n",
        "**Key Operations:**\n",
        "1. **Forward Pass**: Input → Model → Loss calculation\n",
        "2. **Backward Pass**: Gradient computation via backpropagation  \n",
        "3. **Optimization**: Parameter updates using Adam optimizer\n",
        "4. **Metrics Tracking**: Running totals for loss and accuracy\n",
        "5. **Progress Display**: Dynamic progress bar with live metrics\n",
        "\n",
        "### 📊 Evaluation Function Features (`evaluate_model`)\n",
        "\n",
        "Our evaluation function ensures accurate model assessment:\n",
        "\n",
        "- **Evaluation Mode**: Sets model to `eval()` to disable dropout/batch norm training behavior\n",
        "- **No Gradient Computation**: Uses `torch.no_grad()` for memory efficiency\n",
        "- **Comprehensive Testing**: Processes entire test dataset with progress tracking\n",
        "- **Flexible Naming**: Supports different dataset names (Test/Validation)\n",
        "- **Consistent Metrics**: Same accuracy/loss calculations as training\n",
        "\n",
        "**Key Benefits:**\n",
        "- **Memory Efficient**: No gradient computation saves GPU memory\n",
        "- **Accurate Assessment**: Proper evaluation mode ensures realistic performance metrics\n",
        "- **Progress Tracking**: Visual feedback during evaluation process\n",
        "- **Consistent Interface**: Returns same format as training function\n",
        "\n",
        "### 🔄 Function Integration\n",
        "\n",
        "Both functions work together seamlessly:\n",
        "```python\n",
        "# Training phase\n",
        "train_loss, train_acc = train_epoch(model, device, train_loader, optimizer, criterion, epoch)\n",
        "\n",
        "# Evaluation phase  \n",
        "test_loss, test_acc = evaluate_model(model, device, test_loader, criterion, \"Test\")\n",
        "```\n",
        "\n",
        "This design enables:\n",
        "- **Easy Integration**: Drop-in replacements for basic train/test functions\n",
        "- **Comprehensive Logging**: Detailed metrics for analysis and debugging\n",
        "- **Professional Output**: Clean, informative progress displays\n",
        "- **Performance Monitoring**: Real-time feedback on training progress\n"
      ]
    },
    {
      "cell_type": "code",
      "execution_count": 9,
      "metadata": {
        "id": "J_ICqobTLtQU"
      },
      "outputs": [],
      "source": [
        "\n",
        "def train_epoch(model, device, train_loader, optimizer, criterion, epoch=None):\n",
        "    \"\"\"\n",
        "    Train the model for one epoch with comprehensive tracking and progress monitoring.\n",
        "    \n",
        "    Args:\n",
        "        model: The neural network model\n",
        "        device: Computing device (cuda/mps/cpu)\n",
        "        train_loader: DataLoader for training data\n",
        "        optimizer: Optimizer for parameter updates\n",
        "        criterion: Loss function\n",
        "        epoch: Current epoch number for display\n",
        "    \n",
        "    Returns:\n",
        "        tuple: (average_loss, accuracy_percentage)\n",
        "    \"\"\"\n",
        "    model.train()  # Set model to training mode\n",
        "    \n",
        "    total_loss = 0.0\n",
        "    correct_predictions = 0\n",
        "    total_samples = 0\n",
        "    \n",
        "    # Create progress bar for training batches\n",
        "    progress_bar = tqdm(train_loader, desc=f'Epoch {epoch} Training' if epoch else 'Training', \n",
        "                       leave=False, dynamic_ncols=True)\n",
        "    \n",
        "    for batch_idx, (data, target) in enumerate(progress_bar):\n",
        "        # Move data to the appropriate device\n",
        "        data, target = data.to(device, non_blocking=True), target.to(device, non_blocking=True)\n",
        "        \n",
        "        # Zero gradients from previous iteration\n",
        "        optimizer.zero_grad()\n",
        "        \n",
        "        # Forward pass\n",
        "        output = model(data)\n",
        "        loss = criterion(output, target)\n",
        "        \n",
        "        # Backward pass and optimization\n",
        "        loss.backward()\n",
        "        optimizer.step()\n",
        "        \n",
        "        # Update metrics\n",
        "        batch_loss = loss.item()\n",
        "        total_loss += batch_loss * data.size(0)\n",
        "        \n",
        "        # Calculate predictions and correct count\n",
        "        pred = output.argmax(dim=1, keepdim=True)\n",
        "        correct_predictions += pred.eq(target.view_as(pred)).sum().item()\n",
        "        total_samples += data.size(0)\n",
        "        \n",
        "        # Update progress bar with current metrics\n",
        "        current_accuracy = 100. * correct_predictions / total_samples\n",
        "        progress_bar.set_postfix({\n",
        "            'Loss': f'{batch_loss:.4f}',\n",
        "            'Acc': f'{current_accuracy:.2f}%'\n",
        "        })\n",
        "    \n",
        "    # Calculate final epoch metrics\n",
        "    avg_loss = total_loss / total_samples\n",
        "    accuracy = 100. * correct_predictions / total_samples\n",
        "    \n",
        "    print(f'  Train Loss: {avg_loss:.4f}, Train Accuracy: {accuracy:.2f}%')\n",
        "    return avg_loss, accuracy\n",
        "\n",
        "\n",
        "def evaluate_model(model, device, test_loader, criterion, dataset_name=\"Test\"):\n",
        "    \"\"\"\n",
        "    Evaluate the model on test/validation data with comprehensive metrics.\n",
        "    \n",
        "    Args:\n",
        "        model: The neural network model\n",
        "        device: Computing device (cuda/mps/cpu)\n",
        "        test_loader: DataLoader for test data\n",
        "        criterion: Loss function\n",
        "        dataset_name: Name for display purposes (\"Test\" or \"Validation\")\n",
        "    \n",
        "    Returns:\n",
        "        tuple: (average_loss, accuracy_percentage)\n",
        "    \"\"\"\n",
        "    model.eval()  # Set model to evaluation mode\n",
        "    \n",
        "    total_loss = 0.0\n",
        "    correct_predictions = 0\n",
        "    total_samples = 0\n",
        "    \n",
        "    # Create progress bar for evaluation batches\n",
        "    progress_bar = tqdm(test_loader, desc=f'{dataset_name} Evaluation', \n",
        "                       leave=False, dynamic_ncols=True)\n",
        "    \n",
        "    with torch.no_grad():  # Disable gradient computation for efficiency\n",
        "        for data, target in progress_bar:\n",
        "            # Move data to the appropriate device\n",
        "            data, target = data.to(device, non_blocking=True), target.to(device, non_blocking=True)\n",
        "            \n",
        "            # Forward pass\n",
        "            output = model(data)\n",
        "            loss = criterion(output, target)\n",
        "            \n",
        "            # Update metrics\n",
        "            total_loss += loss.item() * data.size(0)\n",
        "            \n",
        "            # Calculate predictions and correct count\n",
        "            pred = output.argmax(dim=1, keepdim=True)\n",
        "            correct_predictions += pred.eq(target.view_as(pred)).sum().item()\n",
        "            total_samples += data.size(0)\n",
        "            \n",
        "            # Update progress bar\n",
        "            current_accuracy = 100. * correct_predictions / total_samples\n",
        "            progress_bar.set_postfix({'Acc': f'{current_accuracy:.2f}%'})\n",
        "    \n",
        "    # Calculate final metrics\n",
        "    avg_loss = total_loss / total_samples\n",
        "    accuracy = 100. * correct_predictions / total_samples\n",
        "    \n",
        "    print(f'  {dataset_name} Loss: {avg_loss:.4f}, {dataset_name} Accuracy: {accuracy:.2f}%')\n",
        "    return avg_loss, accuracy\n"
      ]
    },
    {
      "cell_type": "code",
      "execution_count": 10,
      "metadata": {
        "id": "6NPG4kw1Vg6-"
      },
      "outputs": [],
      "source": [
        "model = SmallMNISTNet4Block().to(device)\n",
        "optimizer = optim.Adam(model.parameters(), lr=0.001)\n",
        "criterion = nn.CrossEntropyLoss()"
      ]
    },
    {
      "cell_type": "code",
      "execution_count": 11,
      "metadata": {},
      "outputs": [
        {
          "name": "stderr",
          "output_type": "stream",
          "text": [
            "                                                                                      \r"
          ]
        },
        {
          "name": "stdout",
          "output_type": "stream",
          "text": [
            "  Train Loss: 0.5454, Train Accuracy: 81.66%\n"
          ]
        },
        {
          "name": "stderr",
          "output_type": "stream",
          "text": [
            "                                                                               "
          ]
        },
        {
          "name": "stdout",
          "output_type": "stream",
          "text": [
            "  Test Loss: 0.0755, Test Accuracy: 97.56%\n"
          ]
        },
        {
          "name": "stderr",
          "output_type": "stream",
          "text": [
            "\r"
          ]
        },
        {
          "data": {
            "text/plain": [
              "(0.07553554662927053, 97.56)"
            ]
          },
          "execution_count": 11,
          "metadata": {},
          "output_type": "execute_result"
        }
      ],
      "source": [
        "train_epoch(model, device, train_loader, optimizer, criterion)\n",
        "evaluate_model(model, device, test_loader, criterion)"
      ]
    },
    {
      "cell_type": "markdown",
      "metadata": {},
      "source": [
        "\n",
        "\n",
        "### 🏆 **Summary**\n",
        "\n",
        "**🎯 TARGET:** Achieve >95% test accuracy on MNIST dataset  \n",
        "**✅ ACTUAL:** **97.56% test accuracy in just ONE epoch!**\n",
        "\n",
        "---\n",
        "\n",
        "### 📊 **Performance Metrics**\n",
        "\n",
        "| Metric | Target | Achieved |\n",
        "|--------|---------|-----------|\n",
        "| **Test Accuracy** | >95% | **97.56%** |\n",
        "| **Model Parameters** | <25,000 | **24,418** |\n",
        "| **Training Efficiency** | Multiple epochs expected | **1 epoch only!** |\n",
        "| **Parameter Efficiency** | Good | **97.6% of limit used** |\n",
        "\n",
        "---\n"
      ]
    },
    {
      "cell_type": "code",
      "execution_count": null,
      "metadata": {
        "id": "8ofI8BKmQgx-"
      },
      "outputs": [],
      "source": []
    }
  ],
  "metadata": {
    "accelerator": "GPU",
    "colab": {
      "gpuType": "T4",
      "provenance": []
    },
    "kernelspec": {
      "display_name": "era_v4",
      "language": "python",
      "name": "python3"
    },
    "language_info": {
      "codemirror_mode": {
        "name": "ipython",
        "version": 3
      },
      "file_extension": ".py",
      "mimetype": "text/x-python",
      "name": "python",
      "nbconvert_exporter": "python",
      "pygments_lexer": "ipython3",
      "version": "3.9.23"
    }
  },
  "nbformat": 4,
  "nbformat_minor": 0
}
